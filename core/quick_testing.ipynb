{
 "cells": [
  {
   "cell_type": "code",
   "execution_count": 1,
   "metadata": {
    "collapsed": true
   },
   "outputs": [],
   "source": [
    "mappingSubTopics: dict[str, dict[str, dict[str, float]]] = {\n",
    "    'Home': {\n",
    "        'Finance': {'x': 0, 'y': 0, 'height': 0.25, 'width': 0.5},\n",
    "        'India': {'x': 0.5, 'y': 0, 'height': 0.25, 'width': 0.5},\n",
    "\n",
    "        'Hollywood': {'x': 0, 'y': 0.25, 'height': 0.15, 'width': 0.33},\n",
    "        'Music': {'x': 0.33, 'y': 0.25, 'height': 0.15, 'width': 0.34},\n",
    "        'Bollywood': {'x': 0.67, 'y': 0.25, 'height': 0.15, 'width': 0.33},\n",
    "\n",
    "        'Sports': {'x': 0, 'y': 0.4, 'height': 0.2, 'width': 0.75},\n",
    "        'Gaming': {'x': 0.75, 'y': 0.4, 'height': 0.2, 'width': 0.25},\n",
    "\n",
    "        'Tech': {'x': 0.0, 'y': 0.6, 'height': 0.2, 'width': 0.5},\n",
    "        'Sample': {'x': 0.5, 'y': 0.6, 'height': 0.2, 'width': 0.5},\n",
    "\n",
    "        'Science': {'x': 0.0, 'y': 0.8, 'height': 0.2, 'width': 0.25},\n",
    "        'World': {'x': 0.25, 'y': 0.8, 'height': 0.2, 'width': 0.75},\n",
    "    },\n",
    "    'Sports': {\n",
    "        'Cricket': {'x': 0.0, 'y': 0.0, 'height': 0.5, 'width': 0.75},\n",
    "        'F1': {'x': 0.75, 'y': 0.0, 'height': 0.5, 'width': 0.25},\n",
    "\n",
    "        'Tennis': {'x': 0.0, 'y': 0.5, 'height': 0.5, 'width': 0.25},\n",
    "        'Football': {'x': 0.25, 'y': 0.5, 'height': 0.5, 'width': 0.75},\n",
    "    }\n",
    "}"
   ]
  },
  {
   "cell_type": "code",
   "execution_count": 3,
   "outputs": [],
   "source": [
    "def ReturnRange(category: str, mappingDict: dict, rangeDict: dict) -> dict:\n",
    "    if category.lower() == 'home':\n",
    "        return rangeDict\n",
    "\n",
    "    for topic, subTopicDict in mappingDict.items():\n",
    "        for subTopic, coordinateDict in subTopicDict.items():\n",
    "            if subTopic.lower() == category.lower():\n",
    "                newRangeDict = {\n",
    "                    'minX': coordinateDict['x'],\n",
    "                    'minY': coordinateDict['y'],\n",
    "                    'maxX': coordinateDict['x'] + coordinateDict['width'],\n",
    "                    'maxY': coordinateDict['y'] + coordinateDict['height']\n",
    "                }\n",
    "\n",
    "                if not rangeDict:\n",
    "                    rangeDict = newRangeDict\n",
    "                else:\n",
    "                    height = coordinateDict['height']\n",
    "                    width = coordinateDict['width']\n",
    "\n",
    "                    rangeDict = {\n",
    "                        'minX': newRangeDict['minX'] + rangeDict['minX'] * width,\n",
    "                        'minY': newRangeDict['minY'] + rangeDict['minY'] * height,\n",
    "                        'maxX': newRangeDict['minX'] + rangeDict['minX'] * width + width * (\n",
    "                                rangeDict['maxX'] - rangeDict['minX']),\n",
    "                        'maxY': newRangeDict['minY'] + rangeDict['minY'] * height + height * (\n",
    "                                rangeDict['maxY'] - rangeDict['minY']),\n",
    "                    }\n",
    "\n",
    "                return ReturnRange(topic, mappingDict, rangeDict)\n"
   ],
   "metadata": {
    "collapsed": false,
    "pycharm": {
     "name": "#%%\n"
    }
   }
  },
  {
   "cell_type": "code",
   "execution_count": 4,
   "outputs": [
    {
     "data": {
      "text/plain": "{'minX': 0, 'minY': 0, 'maxX': 0.5, 'maxY': 0.25}"
     },
     "execution_count": 4,
     "metadata": {},
     "output_type": "execute_result"
    }
   ],
   "source": [
    "ReturnRange('finance',mappingSubTopics, {})"
   ],
   "metadata": {
    "collapsed": false,
    "pycharm": {
     "name": "#%%\n"
    }
   }
  },
  {
   "cell_type": "code",
   "execution_count": null,
   "outputs": [],
   "source": [],
   "metadata": {
    "collapsed": false,
    "pycharm": {
     "name": "#%%\n"
    }
   }
  }
 ],
 "metadata": {
  "kernelspec": {
   "display_name": "Python 3",
   "language": "python",
   "name": "python3"
  },
  "language_info": {
   "codemirror_mode": {
    "name": "ipython",
    "version": 2
   },
   "file_extension": ".py",
   "mimetype": "text/x-python",
   "name": "python",
   "nbconvert_exporter": "python",
   "pygments_lexer": "ipython2",
   "version": "2.7.6"
  }
 },
 "nbformat": 4,
 "nbformat_minor": 0
}